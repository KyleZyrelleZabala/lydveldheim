{
 "cells": [
  {
   "cell_type": "code",
   "execution_count": 15,
   "metadata": {},
   "outputs": [
    {
     "ename": "SyntaxError",
     "evalue": "invalid syntax (<ipython-input-15-26f504cca45b>, line 7)",
     "output_type": "error",
     "traceback": [
      "\u001b[1;36m  File \u001b[1;32m\"<ipython-input-15-26f504cca45b>\"\u001b[1;36m, line \u001b[1;32m7\u001b[0m\n\u001b[1;33m    bob++\u001b[0m\n\u001b[1;37m         ^\u001b[0m\n\u001b[1;31mSyntaxError\u001b[0m\u001b[1;31m:\u001b[0m invalid syntax\n"
     ]
    }
   ],
   "source": [
    "def compareTriplets(a, b):\n",
    "    alice = 0\n",
    "    bob = 0\n",
    "    for x in range(0,len(a)):\n",
    "        print (a[x],\" and \",b[x], \", \")\n",
    "        if (a[x]<b[x]):\n",
    "            bob++\n",
    "        elif (a[x]>b[x]):\n",
    "            alice+=1\n",
    "    return [alice, bob]\n",
    "\n",
    "print(compareTriplets([18, 18, 18],[17, 17, 17]))"
   ]
  },
  {
   "cell_type": "code",
   "execution_count": null,
   "metadata": {},
   "outputs": [],
   "source": []
  }
 ],
 "metadata": {
  "kernelspec": {
   "display_name": "Python 3",
   "language": "python",
   "name": "python3"
  },
  "language_info": {
   "codemirror_mode": {
    "name": "ipython",
    "version": 3
   },
   "file_extension": ".py",
   "mimetype": "text/x-python",
   "name": "python",
   "nbconvert_exporter": "python",
   "pygments_lexer": "ipython3",
   "version": "3.7.0"
  }
 },
 "nbformat": 4,
 "nbformat_minor": 2
}

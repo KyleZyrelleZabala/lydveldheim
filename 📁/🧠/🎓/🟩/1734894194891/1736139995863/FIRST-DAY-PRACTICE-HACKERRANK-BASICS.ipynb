{
 "cells": [
  {
   "cell_type": "code",
   "execution_count": 22,
   "metadata": {},
   "outputs": [
    {
     "name": "stdout",
     "output_type": "stream",
     "text": [
      "Input number:6\n",
      "Weird.\n"
     ]
    }
   ],
   "source": [
    "n = int(input(\"Input number:\"))\n",
    "\n",
    "if (n%2==1 or 6<=n and n<=20):\n",
    "    print(\"Weird.\")\n",
    "else:\n",
    "    print(\"Not Weird.\")"
   ]
  },
  {
   "cell_type": "code",
   "execution_count": 26,
   "metadata": {},
   "outputs": [
    {
     "name": "stdout",
     "output_type": "stream",
     "text": [
      "\n"
     ]
    },
    {
     "ename": "ValueError",
     "evalue": "invalid literal for int() with base 10: ''",
     "output_type": "error",
     "traceback": [
      "\u001b[1;31m---------------------------------------------------------------------------\u001b[0m",
      "\u001b[1;31mValueError\u001b[0m                                Traceback (most recent call last)",
      "\u001b[1;32m<ipython-input-26-8b002bf50bee>\u001b[0m in \u001b[0;36m<module>\u001b[1;34m\u001b[0m\n\u001b[0;32m     10\u001b[0m \u001b[1;33m\u001b[0m\u001b[0m\n\u001b[0;32m     11\u001b[0m \u001b[1;32mif\u001b[0m \u001b[0m__name__\u001b[0m \u001b[1;33m==\u001b[0m \u001b[1;34m'__main__'\u001b[0m\u001b[1;33m:\u001b[0m\u001b[1;33m\u001b[0m\u001b[0m\n\u001b[1;32m---> 12\u001b[1;33m     \u001b[0mn\u001b[0m \u001b[1;33m=\u001b[0m \u001b[0mint\u001b[0m\u001b[1;33m(\u001b[0m\u001b[0minput\u001b[0m\u001b[1;33m(\u001b[0m\u001b[1;33m)\u001b[0m\u001b[1;33m.\u001b[0m\u001b[0mstrip\u001b[0m\u001b[1;33m(\u001b[0m\u001b[1;33m)\u001b[0m\u001b[1;33m)\u001b[0m\u001b[1;33m\u001b[0m\u001b[0m\n\u001b[0m\u001b[0;32m     13\u001b[0m     \u001b[1;32mif\u001b[0m \u001b[1;33m(\u001b[0m\u001b[0mn\u001b[0m\u001b[1;33m%\u001b[0m\u001b[1;36m2\u001b[0m\u001b[1;33m==\u001b[0m\u001b[1;36m1\u001b[0m \u001b[1;32mor\u001b[0m \u001b[1;36m6\u001b[0m\u001b[1;33m<=\u001b[0m\u001b[0mn\u001b[0m \u001b[1;32mand\u001b[0m \u001b[0mn\u001b[0m\u001b[1;33m<=\u001b[0m\u001b[1;36m20\u001b[0m\u001b[1;33m)\u001b[0m\u001b[1;33m:\u001b[0m\u001b[1;33m\u001b[0m\u001b[0m\n\u001b[0;32m     14\u001b[0m         \u001b[0mprint\u001b[0m\u001b[1;33m(\u001b[0m\u001b[1;34m\"Weird\"\u001b[0m\u001b[1;33m)\u001b[0m\u001b[1;33m\u001b[0m\u001b[0m\n",
      "\u001b[1;31mValueError\u001b[0m: invalid literal for int() with base 10: ''"
     ]
    }
   ],
   "source": [
    "#!/bin/python3\n",
    "\n",
    "import math\n",
    "import os\n",
    "import random\n",
    "import re\n",
    "import sys\n",
    "\n",
    "\n",
    "\n",
    "if __name__ == '__main__':\n",
    "    n = int(input().strip())\n",
    "    if (n%2==1 or 6<=n and n<=20):\n",
    "        print(\"Weird\")\n",
    "    else:\n",
    "        print(\"Not Weird\")"
   ]
  },
  {
   "cell_type": "code",
   "execution_count": null,
   "metadata": {},
   "outputs": [],
   "source": [
    "a = int(input())\n",
    "b = int(input())\n",
    "\n",
    "print(a+b)\n",
    "print(a-b)\n",
    "print(a*b)"
   ]
  },
  {
   "cell_type": "code",
   "execution_count": 27,
   "metadata": {},
   "outputs": [
    {
     "name": "stdout",
     "output_type": "stream",
     "text": [
      "4\n",
      "3\n",
      "1\n",
      "1.3333333333333333\n"
     ]
    }
   ],
   "source": [
    "# a//b -> integer division\n",
    "# a/n -> float division\n",
    "\n",
    "a = int(input())\n",
    "b = int(input())\n",
    "\n",
    "print(a//b)\n",
    "print(a/b)"
   ]
  },
  {
   "cell_type": "code",
   "execution_count": 28,
   "metadata": {},
   "outputs": [
    {
     "name": "stdout",
     "output_type": "stream",
     "text": [
      "5\n",
      "0\n",
      "1\n",
      "4\n",
      "9\n",
      "16\n"
     ]
    }
   ],
   "source": [
    "if __name__ == '__main__':\n",
    "    n = int(input())\n",
    "    for x in range(0,n):\n",
    "        print(x ** 2) # squared\n",
    "\n"
   ]
  },
  {
   "cell_type": "code",
   "execution_count": 44,
   "metadata": {},
   "outputs": [
    {
     "name": "stdout",
     "output_type": "stream",
     "text": [
      "5\n",
      "False\n",
      "1\n",
      "False\n"
     ]
    }
   ],
   "source": [
    "def is_leap(year): #need more polishing\n",
    "    leap = (year>1900) \n",
    "    if (leap and (year%4 == 0)):\n",
    "        if (year%100==0):\n",
    "            if(year%400==0):\n",
    "                leap = True\n",
    "            else: leap = False\n",
    "    else: leap = False\n",
    "\n",
    "    return leap\n",
    "\n",
    "year = int(input())\n",
    "print(is_leap(year))\n",
    "\n",
    "year = int(input())\n",
    "print(is_leap(year))"
   ]
  },
  {
   "cell_type": "code",
   "execution_count": null,
   "metadata": {},
   "outputs": [],
   "source": [
    "#print function\n",
    "if __name__ == '__main__': \n",
    "    n = int(input())\n",
    "    for x in range(1,n+1):\n",
    "        print(x, end=\"\")\n"
   ]
  },
  {
   "cell_type": "code",
   "execution_count": 48,
   "metadata": {},
   "outputs": [
    {
     "name": "stdout",
     "output_type": "stream",
     "text": [
      "1\n",
      "Error Code: division by zero\n"
     ]
    }
   ],
   "source": [
    "input()\n",
    "try:\n",
    "    print (1/0)\n",
    "except ZeroDivisionError as e:\n",
    "    print (\"Error Code:\",e)"
   ]
  },
  {
   "cell_type": "code",
   "execution_count": 50,
   "metadata": {},
   "outputs": [
    {
     "name": "stdout",
     "output_type": "stream",
     "text": [
      "3\n",
      "3 0\n",
      "Error Code: integer division or module by zero\n",
      "2 1\n",
      "2\n",
      "2 $\n",
      "Error Code: invalid literal for int() with base 10: '$'\n"
     ]
    }
   ],
   "source": [
    "# Enter your code here. Read input from STDIN. Print output to STDOUT\n",
    "\n",
    "n = int(input())\n",
    "for x in range(0,n):\n",
    "    try:\n",
    "        a,b = input().split(\" \")\n",
    "        print (int(a)//int(b))\n",
    "    except ZeroDivisionError as e:\n",
    "        print(\"Error Code: integer division or module by zero\")\n",
    "    except ValueError as e:\n",
    "        print(\"Error Code:\", e)"
   ]
  },
  {
   "cell_type": "code",
   "execution_count": 54,
   "metadata": {},
   "outputs": [
    {
     "name": "stdout",
     "output_type": "stream",
     "text": [
      "10\n",
      "23\n"
     ]
    }
   ],
   "source": [
    "#Project Euler : Multiples of 3 and 5\n",
    "\n",
    "num = int(input())\n",
    "result = int()\n",
    "for x in range(0, num):\n",
    "    if (x%3 == 0 or x%5 == 0):\n",
    "        result += x\n",
    "print(result)"
   ]
  },
  {
   "cell_type": "code",
   "execution_count": null,
   "metadata": {},
   "outputs": [],
   "source": [
    "#Project Euler : Even Fibonacci numbers\n",
    "a = 1\n",
    "b = 2\n",
    "c = int()\n",
    "result = b\n",
    "\n",
    "for x in range (0, 4):\n",
    "    c = a+b\n",
    "    a=b\n",
    "    b=c\n",
    "    #print(c, end=\", \")\n",
    "    if (c%2==0): result+=c\n",
    "        \n",
    "print(result)\n"
   ]
  },
  {
   "cell_type": "code",
   "execution_count": null,
   "metadata": {},
   "outputs": [],
   "source": []
  },
  {
   "cell_type": "code",
   "execution_count": null,
   "metadata": {},
   "outputs": [],
   "source": []
  },
  {
   "cell_type": "code",
   "execution_count": null,
   "metadata": {},
   "outputs": [],
   "source": []
  },
  {
   "cell_type": "code",
   "execution_count": null,
   "metadata": {},
   "outputs": [],
   "source": []
  }
 ],
 "metadata": {
  "kernelspec": {
   "display_name": "Python 3",
   "language": "python",
   "name": "python3"
  },
  "language_info": {
   "codemirror_mode": {
    "name": "ipython",
    "version": 3
   },
   "file_extension": ".py",
   "mimetype": "text/x-python",
   "name": "python",
   "nbconvert_exporter": "python",
   "pygments_lexer": "ipython3",
   "version": "3.7.0"
  }
 },
 "nbformat": 4,
 "nbformat_minor": 2
}
